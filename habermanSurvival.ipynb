{
  "nbformat": 4,
  "nbformat_minor": 0,
  "metadata": {
    "kernelspec": {
      "name": "python3",
      "display_name": "Python 3",
      "language": "python"
    },
    "language_info": {
      "name": "python",
      "version": "3.7.6",
      "mimetype": "text/x-python",
      "codemirror_mode": {
        "name": "ipython",
        "version": 3
      },
      "pygments_lexer": "ipython3",
      "nbconvert_exporter": "python",
      "file_extension": ".py"
    },
    "colab": {
      "name": "habermanSurvival.ipynb",
      "provenance": [],
      "include_colab_link": true
    }
  },
  "cells": [
    {
      "cell_type": "markdown",
      "metadata": {
        "id": "view-in-github",
        "colab_type": "text"
      },
      "source": [
        "<a href=\"https://colab.research.google.com/github/vniranjan26/Haberman_Survival/blob/main/habermanSurvival.ipynb\" target=\"_parent\"><img src=\"https://colab.research.google.com/assets/colab-badge.svg\" alt=\"Open In Colab\"/></a>"
      ]
    },
    {
      "cell_type": "code",
      "metadata": {
        "trusted": true,
        "id": "bJHKIV7CKuya"
      },
      "source": [
        "from collections import Counter\n",
        "import warnings\n",
        "warnings.filterwarnings('ignore')\n",
        "\n",
        "import numpy as np\n",
        "import pandas as pd\n",
        "import seaborn as sns\n",
        "import matplotlib.pyplot as plt\n",
        "\n",
        "from scipy.stats import kurtosis, skew\n",
        "from scipy import stats\n",
        "\n",
        "from sklearn.model_selection import RepeatedStratifiedKFold, cross_val_score\n",
        "from sklearn.metrics import brier_score_loss, make_scorer\n",
        "\n",
        "from sklearn.dummy import DummyClassifier\n",
        "\n",
        "from sklearn.linear_model import LogisticRegression\n",
        "from sklearn.discriminant_analysis import LinearDiscriminantAnalysis\n",
        "from sklearn.discriminant_analysis import QuadraticDiscriminantAnalysis\n",
        "from sklearn.naive_bayes import GaussianNB\n",
        "from sklearn.naive_bayes import MultinomialNB\n",
        "from sklearn.gaussian_process import GaussianProcessClassifier\n",
        "from sklearn.pipeline import Pipeline\n",
        "from sklearn.preprocessing import StandardScaler\n",
        "from sklearn.preprocessing import PowerTransformer\n",
        "from sklearn.preprocessing import MinMaxScaler\n",
        "from sklearn.model_selection import train_test_split\n",
        "\n",
        "from sklearn.metrics import f1_score\n",
        "\n",
        "from sklearn.svm import SVC\n",
        "\n",
        "from sklearn.metrics import classification_report, confusion_matrix, roc_curve, precision_recall_curve\n",
        "import seaborn as sns\n",
        "from sklearn.model_selection import GridSearchCV\n",
        "%matplotlib inline\n",
        "\n",
        "sns.set_style(\"whitegrid\")\n",
        "sns.set_context(\"paper\")\n",
        "#plt.style.use('whitegrid')"
      ],
      "execution_count": 25,
      "outputs": []
    },
    {
      "cell_type": "markdown",
      "metadata": {
        "id": "bPyXVPmbKuy8"
      },
      "source": [
        "<h3><center>1. Reading Data </center></h3>"
      ]
    },
    {
      "cell_type": "code",
      "metadata": {
        "trusted": true,
        "colab": {
          "base_uri": "https://localhost:8080/",
          "height": 195
        },
        "id": "ER26lPnpKuzB",
        "outputId": "b47b1ca0-336e-4a89-e84c-ff2e2d913d4e"
      },
      "source": [
        "FILE_PATH = 'https://drive.google.com/uc?export=download&id=1V_jmQE01OZtkcSM1r8_grUoFDLyRmDuk'\n",
        "columns = ['age', 'year', 'nodes', 'class']\n",
        "\n",
        "haberman_df = pd.read_csv(FILE_PATH, header=None, names=columns)\n",
        "\n",
        "# Setting class values to 1 & 0 for +ve & -ve classes\n",
        "haberman_df['class'].replace({1:0,2:1}, inplace=True)\n",
        "haberman_df.sample(5)"
      ],
      "execution_count": 26,
      "outputs": [
        {
          "output_type": "execute_result",
          "data": {
            "text/html": [
              "<div>\n",
              "<style scoped>\n",
              "    .dataframe tbody tr th:only-of-type {\n",
              "        vertical-align: middle;\n",
              "    }\n",
              "\n",
              "    .dataframe tbody tr th {\n",
              "        vertical-align: top;\n",
              "    }\n",
              "\n",
              "    .dataframe thead th {\n",
              "        text-align: right;\n",
              "    }\n",
              "</style>\n",
              "<table border=\"1\" class=\"dataframe\">\n",
              "  <thead>\n",
              "    <tr style=\"text-align: right;\">\n",
              "      <th></th>\n",
              "      <th>age</th>\n",
              "      <th>year</th>\n",
              "      <th>nodes</th>\n",
              "      <th>class</th>\n",
              "    </tr>\n",
              "  </thead>\n",
              "  <tbody>\n",
              "    <tr>\n",
              "      <th>21</th>\n",
              "      <td>37</td>\n",
              "      <td>59</td>\n",
              "      <td>6</td>\n",
              "      <td>0</td>\n",
              "    </tr>\n",
              "    <tr>\n",
              "      <th>40</th>\n",
              "      <td>40</td>\n",
              "      <td>58</td>\n",
              "      <td>2</td>\n",
              "      <td>0</td>\n",
              "    </tr>\n",
              "    <tr>\n",
              "      <th>151</th>\n",
              "      <td>52</td>\n",
              "      <td>62</td>\n",
              "      <td>0</td>\n",
              "      <td>0</td>\n",
              "    </tr>\n",
              "    <tr>\n",
              "      <th>140</th>\n",
              "      <td>51</td>\n",
              "      <td>65</td>\n",
              "      <td>0</td>\n",
              "      <td>0</td>\n",
              "    </tr>\n",
              "    <tr>\n",
              "      <th>146</th>\n",
              "      <td>52</td>\n",
              "      <td>61</td>\n",
              "      <td>0</td>\n",
              "      <td>0</td>\n",
              "    </tr>\n",
              "  </tbody>\n",
              "</table>\n",
              "</div>"
            ],
            "text/plain": [
              "     age  year  nodes  class\n",
              "21    37    59      6      0\n",
              "40    40    58      2      0\n",
              "151   52    62      0      0\n",
              "140   51    65      0      0\n",
              "146   52    61      0      0"
            ]
          },
          "metadata": {
            "tags": []
          },
          "execution_count": 26
        }
      ]
    },
    {
      "cell_type": "markdown",
      "metadata": {
        "id": "EPIHJ2K4KuzH"
      },
      "source": [
        "<h3><center>2. Exploring Data </center></h3>"
      ]
    },
    {
      "cell_type": "code",
      "metadata": {
        "trusted": true,
        "colab": {
          "base_uri": "https://localhost:8080/",
          "height": 182
        },
        "id": "QLYTw_pRKuzH",
        "outputId": "5a53dc1d-5a77-4db7-b6e1-b8aa7f9286d6"
      },
      "source": [
        "DataDesc(haberman_df)"
      ],
      "execution_count": 27,
      "outputs": [
        {
          "output_type": "stream",
          "text": [
            "Dataset Shape: (306, 4)\n"
          ],
          "name": "stdout"
        },
        {
          "output_type": "execute_result",
          "data": {
            "text/html": [
              "<div>\n",
              "<style scoped>\n",
              "    .dataframe tbody tr th:only-of-type {\n",
              "        vertical-align: middle;\n",
              "    }\n",
              "\n",
              "    .dataframe tbody tr th {\n",
              "        vertical-align: top;\n",
              "    }\n",
              "\n",
              "    .dataframe thead th {\n",
              "        text-align: right;\n",
              "    }\n",
              "</style>\n",
              "<table border=\"1\" class=\"dataframe\">\n",
              "  <thead>\n",
              "    <tr style=\"text-align: right;\">\n",
              "      <th></th>\n",
              "      <th>Name</th>\n",
              "      <th>dtypes</th>\n",
              "      <th>Missing</th>\n",
              "      <th>Uniques</th>\n",
              "      <th>First Value</th>\n",
              "      <th>Second Value</th>\n",
              "      <th>Third Value</th>\n",
              "      <th>Entropy</th>\n",
              "    </tr>\n",
              "  </thead>\n",
              "  <tbody>\n",
              "    <tr>\n",
              "      <th>0</th>\n",
              "      <td>age</td>\n",
              "      <td>int64</td>\n",
              "      <td>0</td>\n",
              "      <td>49</td>\n",
              "      <td>30</td>\n",
              "      <td>30</td>\n",
              "      <td>30</td>\n",
              "      <td>5.34</td>\n",
              "    </tr>\n",
              "    <tr>\n",
              "      <th>1</th>\n",
              "      <td>year</td>\n",
              "      <td>int64</td>\n",
              "      <td>0</td>\n",
              "      <td>12</td>\n",
              "      <td>64</td>\n",
              "      <td>62</td>\n",
              "      <td>65</td>\n",
              "      <td>3.53</td>\n",
              "    </tr>\n",
              "    <tr>\n",
              "      <th>2</th>\n",
              "      <td>nodes</td>\n",
              "      <td>int64</td>\n",
              "      <td>0</td>\n",
              "      <td>31</td>\n",
              "      <td>1</td>\n",
              "      <td>3</td>\n",
              "      <td>0</td>\n",
              "      <td>3.19</td>\n",
              "    </tr>\n",
              "    <tr>\n",
              "      <th>3</th>\n",
              "      <td>class</td>\n",
              "      <td>int64</td>\n",
              "      <td>0</td>\n",
              "      <td>2</td>\n",
              "      <td>0</td>\n",
              "      <td>0</td>\n",
              "      <td>0</td>\n",
              "      <td>0.83</td>\n",
              "    </tr>\n",
              "  </tbody>\n",
              "</table>\n",
              "</div>"
            ],
            "text/plain": [
              "    Name dtypes  Missing  ...  Second Value  Third Value  Entropy\n",
              "0    age  int64        0  ...            30           30     5.34\n",
              "1   year  int64        0  ...            62           65     3.53\n",
              "2  nodes  int64        0  ...             3            0     3.19\n",
              "3  class  int64        0  ...             0            0     0.83\n",
              "\n",
              "[4 rows x 8 columns]"
            ]
          },
          "metadata": {
            "tags": []
          },
          "execution_count": 27
        }
      ]
    },
    {
      "cell_type": "markdown",
      "metadata": {
        "id": "2CIl3KEpKuzI"
      },
      "source": [
        "<h3>2.1. Age Distribution & Outliers</h3>"
      ]
    },
    {
      "cell_type": "code",
      "metadata": {
        "_kg_hide-input": true,
        "trusted": true,
        "colab": {
          "base_uri": "https://localhost:8080/",
          "height": 665
        },
        "id": "oENq6uE_KuzL",
        "outputId": "cf4f2abb-a438-42fd-af99-367831e9f177"
      },
      "source": [
        "display(haberman_df['age'].describe())\n",
        "\n",
        "plt.figure(figsize=(15,5))\n",
        "plt.suptitle('Age Distribution', fontsize=30)\n",
        "_ = sns.countplot(data=haberman_df, x='age', color='#963559')\n",
        "_ = plt.ylabel('Count', fontsize=20)\n",
        "_ = plt.xlabel('Age', fontsize=20)\n",
        "\n",
        "\n",
        "print(\"\\n\")\n",
        "display(CalOutliers(haberman_df['age']))"
      ],
      "execution_count": 28,
      "outputs": [
        {
          "output_type": "display_data",
          "data": {
            "text/plain": [
              "count    306.000000\n",
              "mean      52.457516\n",
              "std       10.803452\n",
              "min       30.000000\n",
              "25%       44.000000\n",
              "50%       52.000000\n",
              "75%       60.750000\n",
              "max       83.000000\n",
              "Name: age, dtype: float64"
            ]
          },
          "metadata": {
            "tags": []
          }
        },
        {
          "output_type": "stream",
          "text": [
            "\n",
            "\n",
            "\u001b[1mLower outliers: 0\u001b[0m\n",
            "\u001b[1mUpper outliers: 0\u001b[0m\n",
            "\u001b[1mTotal outliers: 0\u001b[0m\n",
            "\u001b[1mNon - outliers: 306\u001b[0m\n",
            "\u001b[1m% of Outliers : 0.0\u001b[0m\n"
          ],
          "name": "stdout"
        },
        {
          "output_type": "display_data",
          "data": {
            "text/plain": [
              "None"
            ]
          },
          "metadata": {
            "tags": []
          }
        },
        {
          "output_type": "display_data",
          "data": {
            "image/png": "[encoded data removed]",
            "text/plain": [
              "<Figure size 1080x360 with 1 Axes>"
            ]
          },
          "metadata": {
            "tags": []
          }
        }
      ]
    },
    {
      "cell_type": "markdown",
      "metadata": {
        "id": "DgSReYOXKuzR"
      },
      "source": [
        "<div style=\"font-family:verdana; word-spacing:1.5px;\">\n",
        "<h4 style=\"font-family:verdana; word-spacing:1.5px;font-size:16px\">Analysis of feature \"Age\" :</h4>\n",
        "<ul><li>Entropy/Uncertainty of column age is the highest(5.34), having 49 unique values out of 306 total samples.\n",
        "    <li>Mean age value is 52 and the distribution is similar to a normal Distribution.\n",
        "        <li> As of now we have not detected any outliers using naive calculation.\n",
        "    </ul>\n",
        "</div>"
      ]
    },
    {
      "cell_type": "markdown",
      "metadata": {
        "id": "IfjTWH5dKuzW"
      },
      "source": [
        "<h3>2.2 Distribution of Age Based on Cancer</h3>"
      ]
    },
    {
      "cell_type": "code",
      "metadata": {
        "_kg_hide-input": true,
        "trusted": true,
        "colab": {
          "base_uri": "https://localhost:8080/",
          "height": 360
        },
        "id": "ZD79NsZUKuzX",
        "outputId": "1b975212-eb27-4046-ccce-86edf0521ec5"
      },
      "source": [
        "fig = plt.figure(figsize=(15,5))\n",
        "\n",
        "ax1 = fig.add_subplot(121)\n",
        "_ = sns.distplot(haberman_df[haberman_df['class'] == 0]['age'], bins=24, color='#f5dd90', ax=ax1)\n",
        "_ = ax1.set_title('Non-Cancer', fontsize=20)\n",
        "_ = ax1.set_xlabel(\"Age\",fontsize=15)\n",
        "_ = ax1.set_ylabel(\"\")\n",
        "\n",
        "ax2 = fig.add_subplot(122)\n",
        "_ = sns.distplot(haberman_df[haberman_df['class'] == 1]['age'], bins=24, color='#0d3b66', ax=ax2)\n",
        "_ = ax2.set_title('Cancer', fontsize=20)\n",
        "_ = ax2.set_xlabel(\"Age\",fontsize=15)\n",
        "_ = ax2.set_ylabel(\"\")"
      ],
      "execution_count": 29,
      "outputs": [
        {
          "output_type": "display_data",
          "data": {
            "image/png": "[encoded data removed]",
            "text/plain": [
              "<Figure size 1080x360 with 2 Axes>"
            ]
          },
          "metadata": {
            "tags": []
          }
        }
      ]
    },
    {
      "cell_type": "markdown",
      "metadata": {
        "id": "uC99BkqyKuzZ"
      },
      "source": [
        "<h3>2.3 Nodes Distribution</h3>"
      ]
    },
    {
      "cell_type": "code",
      "metadata": {
        "_kg_hide-input": true,
        "trusted": true,
        "colab": {
          "base_uri": "https://localhost:8080/",
          "height": 661
        },
        "id": "gNNdne0pKuza",
        "outputId": "9d863ff4-20b3-4a2d-f314-24f6c436e19d"
      },
      "source": [
        "display(haberman_df['nodes'].describe())\n",
        "\n",
        "plt.figure(figsize=(15,5))\n",
        "plt.suptitle('Nodes Distribution', fontsize=20)\n",
        "_ = sns.countplot(data=haberman_df, x='nodes', color='#963559')\n",
        "_ = plt.ylabel('Count', fontsize=15)\n",
        "_ = plt.xlabel('Nodes', fontsize=15)\n",
        "\n",
        "\n",
        "print(\"\\n\")\n",
        "display(CalOutliers(haberman_df['nodes']))"
      ],
      "execution_count": 30,
      "outputs": [
        {
          "output_type": "display_data",
          "data": {
            "text/plain": [
              "count    306.000000\n",
              "mean       4.026144\n",
              "std        7.189654\n",
              "min        0.000000\n",
              "25%        0.000000\n",
              "50%        1.000000\n",
              "75%        4.000000\n",
              "max       52.000000\n",
              "Name: nodes, dtype: float64"
            ]
          },
          "metadata": {
            "tags": []
          }
        },
        {
          "output_type": "stream",
          "text": [
            "\n",
            "\n",
            "\u001b[1mLower outliers: 0\u001b[0m\n",
            "\u001b[1mUpper outliers: 5\u001b[0m\n",
            "\u001b[1mTotal outliers: 5\u001b[0m\n",
            "\u001b[1mNon - outliers: 301\u001b[0m\n",
            "\u001b[1m% of Outliers : 1.6611\u001b[0m\n"
          ],
          "name": "stdout"
        },
        {
          "output_type": "display_data",
          "data": {
            "text/plain": [
              "None"
            ]
          },
          "metadata": {
            "tags": []
          }
        },
        {
          "output_type": "display_data",
          "data": {
            "image/png": "[encoded data removed]",
            "text/plain": [
              "<Figure size 1080x360 with 1 Axes>"
            ]
          },
          "metadata": {
            "tags": []
          }
        }
      ]
    },
    {
      "cell_type": "markdown",
      "metadata": {
        "id": "G5eCDX1QKuzh"
      },
      "source": [
        "<h3>2.4 Distribution of nodes Based on Cancer</h3>"
      ]
    },
    {
      "cell_type": "code",
      "metadata": {
        "_kg_hide-input": true,
        "trusted": true,
        "colab": {
          "base_uri": "https://localhost:8080/",
          "height": 366
        },
        "id": "YKKAbOcFKuzi",
        "outputId": "f581a23c-dd96-435e-e462-0ea15ff78cef"
      },
      "source": [
        "plt.figure(figsize=(10,5))\n",
        "_ = sns.swarmplot(data=haberman_df, x='class', y='nodes', palette=['#9fb8ad','#475841'])\n",
        "_ = plt.ylabel('Nodes', fontsize=15)\n",
        "_ = plt.xlabel('Class', fontsize=15)\n",
        "_ = plt.xticks([0,1],['Non-Cancer','Cancer'], fontsize=15)\n",
        "_ = plt.title('Nodes vs Cancer', fontsize=20)"
      ],
      "execution_count": 31,
      "outputs": [
        {
          "output_type": "display_data",
          "data": {
            "image/png": "[encoded data removed]",
            "text/plain": [
              "<Figure size 720x360 with 1 Axes>"
            ]
          },
          "metadata": {
            "tags": []
          }
        }
      ]
    },
    {
      "cell_type": "markdown",
      "metadata": {
        "id": "AkpgO9HLKuzj"
      },
      "source": [
        "A cancer patient cannot be directly identified by number of nodes"
      ]
    },
    {
      "cell_type": "markdown",
      "metadata": {
        "id": "KU-jY00mKuzk"
      },
      "source": [
        "<h3>2.5 Cancer vs Non-Cancer</h3>"
      ]
    },
    {
      "cell_type": "code",
      "metadata": {
        "_kg_hide-input": true,
        "trusted": true,
        "colab": {
          "base_uri": "https://localhost:8080/",
          "height": 428
        },
        "id": "uCC2EA1uKuzk",
        "outputId": "d980bf28-3317-4b13-e552-850610b52de4"
      },
      "source": [
        "_ = plt.figure(figsize=(8,6))\n",
        "_ = sns.countplot(haberman_df['class'], palette=['#9fb8ad','#475841'])\n",
        "_ = plt.xticks([0,1],['Non-Cancer','Cancer'], fontsize=15)\n",
        "\n",
        "target = haberman_df['class'].values\n",
        "counter = Counter(target)\n",
        "for k,v in counter.items():\n",
        "    per = v / len(target) * 100\n",
        "    print('Class=%d, Count=%d, Percentage=%.3f%%' % (k, v, per))"
      ],
      "execution_count": 32,
      "outputs": [
        {
          "output_type": "stream",
          "text": [
            "Class=0, Count=225, Percentage=73.529%\n",
            "Class=1, Count=81, Percentage=26.471%\n"
          ],
          "name": "stdout"
        },
        {
          "output_type": "display_data",
          "data": {
            "image/png": "[encoded data removed]",
            "text/plain": [
              "<Figure size 576x432 with 1 Axes>"
            ]
          },
          "metadata": {
            "tags": []
          }
        }
      ]
    },
    {
      "cell_type": "markdown",
      "metadata": {
        "id": "qUfQKWr9Kuzn"
      },
      "source": [
        "<h3><center>3. Model Test and Baseline Result</center></h3>"
      ]
    },
    {
      "cell_type": "markdown",
      "metadata": {
        "id": "IF5sfHBTKuzo"
      },
      "source": [
        "<div style=\"font-family:verdana; word-spacing:1.5px;font-size:16px\">\n",
        "We are interested in predicting a probability of survival, we need a performance metric that evaluates the skill of a model based on the predicted probabilities. In this case, we will use the Brier score that calculates the mean squared error between the predicted probabilities and the expected probabilities.<br><br><br>\n",
        "    We need a Brier score for a reference prediction. A reference prediction for a problem in which we are predicting probabilities is the probability of the positive class label in the dataset. In this case, the positive class label represents non-survival and occurs about 26% in the dataset. Therefore, predicting about 0.26471 represents the worst-case or baseline performance for a predictive model on this dataset. Any model that has a Brier score better than this has some skill, where as any model that as a Brier score lower than this has no skill.<br><br>\n",
        "    We will evaluate the baseline strategy of predicting the distribution of positive examples in the training set as the probability of each case in the test set.<br> This can be implemented automatically using the DummyClassifier class and setting the strategy to ‘prior’ that will predict the prior probability of each class in the training dataset, which for the positive class we know is about 0.26471.\n",
        "    </div>"
      ]
    },
    {
      "cell_type": "code",
      "metadata": {
        "trusted": true,
        "id": "Tbe1sfW2Kuzp"
      },
      "source": [
        "def brier_skill_score(y_true, y_prob):\n",
        "    ref_probs = [0.26471 for _ in range(len(y_true))]\n",
        "    \n",
        "    bs_ref = brier_score_loss(y_true, ref_probs)\n",
        "    bs_model = brier_score_loss(y_true, y_prob)\n",
        "    \n",
        "    return 1.0 - (bs_model / bs_ref)\n",
        "\n",
        "def evaluate_model(X, y, model):\n",
        "    cv = RepeatedStratifiedKFold(n_splits=10, n_repeats=3, random_state=1)\n",
        "    \n",
        "    metric = make_scorer(brier_skill_score, needs_proba=True)\n",
        "    \n",
        "    scores = cross_val_score(model, X, y, cv=cv, scoring=metric, n_jobs=-1)\n",
        "    \n",
        "    return scores"
      ],
      "execution_count": 33,
      "outputs": []
    },
    {
      "cell_type": "code",
      "metadata": {
        "trusted": true,
        "colab": {
          "base_uri": "https://localhost:8080/"
        },
        "id": "xLWB_2vpKuzq",
        "outputId": "12221fa7-c8ac-410d-dc21-b2b12d4706de"
      },
      "source": [
        "X, y = haberman_df.values[:,:-1], haberman_df.values[:,-1]  \n",
        "\n",
        "model = DummyClassifier(strategy='prior')\n",
        "\n",
        "scores = evaluate_model(X, y, model)\n",
        "\n",
        "print(f'Mean BSS {np.mean(scores)}')"
      ],
      "execution_count": 34,
      "outputs": [
        {
          "output_type": "stream",
          "text": [
            "Mean BSS -0.00010483367619751327\n"
          ],
          "name": "stdout"
        }
      ]
    },
    {
      "cell_type": "markdown",
      "metadata": {
        "id": "uWmDpCqZKuzq"
      },
      "source": [
        "<h3><center>4. Evaluate Probabilistic Models</center></h3>\n",
        "<div style=\"font-family:verdana; word-spacing:1.5px;font-size:16px\">\n",
        "    <ul>\n",
        "        <li>Logistic Regression (LR)\n",
        "        <li>Gaussian Naive Bayes (GNB)\n",
        "        <li>Multinomial Naive Bayes (MNB)\n",
        "     </ul>\n",
        "</div>"
      ]
    },
    {
      "cell_type": "markdown",
      "metadata": {
        "id": "54LTaQPWKuzs"
      },
      "source": [
        "<h3>4.1. Probabilistic Algorithm Evaluation</h3>"
      ]
    },
    {
      "cell_type": "code",
      "metadata": {
        "trusted": true,
        "id": "B0AUR_jWKuzt"
      },
      "source": [
        "def get_models():\n",
        "    models, names = list(), list()\n",
        "    models.append(LogisticRegression(solver='lbfgs')) \n",
        "    names.append('LR')\n",
        "    \n",
        "    models.append(GaussianNB()) \n",
        "    names.append('GNB')\n",
        "    \n",
        "    models.append(MultinomialNB()) \n",
        "    names.append('MNB')\n",
        "    \n",
        "    return models, names"
      ],
      "execution_count": 46,
      "outputs": []
    },
    {
      "cell_type": "code",
      "metadata": {
        "trusted": true,
        "colab": {
          "base_uri": "https://localhost:8080/"
        },
        "id": "5xnLNcOgKuzt",
        "outputId": "245d99d2-8216-486c-dcf7-8e2ee675fe44"
      },
      "source": [
        "models, names = get_models() \n",
        "results = list()\n",
        "\n",
        "for i in range(len(models)):\n",
        "    scores = evaluate_model(X, y, models[i])\n",
        "    results.append(scores)\n",
        "\n",
        "    print('Model : %s, Mean : %.3f, STD : %.3f' % (names[i], np.mean(scores), np.std(scores)))"
      ],
      "execution_count": 47,
      "outputs": [
        {
          "output_type": "stream",
          "text": [
            "Model : LR, Mean : 0.060, STD : 0.143\n",
            "Model : GNB, Mean : 0.012, STD : 0.212\n",
            "Model : MNB, Mean : -0.211, STD : 0.369\n"
          ],
          "name": "stdout"
        }
      ]
    },
    {
      "cell_type": "markdown",
      "metadata": {
        "id": "lWjYgTnEKuzv"
      },
      "source": [
        "<h3>4.2. Model Evaluation With Scaled Inputs </h3>"
      ]
    },
    {
      "cell_type": "code",
      "metadata": {
        "trusted": true,
        "colab": {
          "base_uri": "https://localhost:8080/"
        },
        "id": "441QwKUgKuzw",
        "outputId": "6b5a16cd-df18-476c-b0f6-8f2b8750295d"
      },
      "source": [
        "models, names = get_models() \n",
        "results = list()\n",
        "\n",
        "for i in range(len(models)):\n",
        "    steps = [('t',StandardScaler()),('m',models[i])]\n",
        "    pipeline = Pipeline(steps=steps)\n",
        "    scores = evaluate_model(X, y, pipeline)\n",
        "    results.append(scores)\n",
        "\n",
        "    print('Model : %s, Mean : %.3f, STD : %.3f' % (names[i], np.mean(scores), np.std(scores)))"
      ],
      "execution_count": 48,
      "outputs": [
        {
          "output_type": "stream",
          "text": [
            "Model : LR, Mean : 0.062, STD : 0.140\n",
            "Model : GNB, Mean : 0.012, STD : 0.212\n",
            "Model : MNB, Mean : nan, STD : nan\n"
          ],
          "name": "stdout"
        }
      ]
    },
    {
      "cell_type": "markdown",
      "metadata": {
        "id": "doeYIzNCKuz5"
      },
      "source": [
        "<h3>4.3. Model Evaluation With Power Transform</h3>\n",
        "<div style=\"font-family:verdana; word-spacing:1.5px;font-size:16px\">\n",
        "Power transforms, such as the Box-Cox and Yeo-Johnson transforms, are designed to change the distribution to be more Gaussian. This will help with the age input variable in our dataset and may help with the nodes variable and un-bunch the distribution slightly.<br><br>\n",
        "The power transform may make use of a log() function, which does not work on zero values. We have zero values in our dataset, therefore we will scale the dataset prior to the power transform using a MinMaxScaler.</div>"
      ]
    },
    {
      "cell_type": "code",
      "metadata": {
        "trusted": true,
        "colab": {
          "base_uri": "https://localhost:8080/"
        },
        "id": "THF_h4LyKuz6",
        "outputId": "aea43e47-809a-47b4-e1c8-1b71ee3e6a15"
      },
      "source": [
        "models, names = get_models() \n",
        "results = list()\n",
        "\n",
        "for i in range(len(models)):\n",
        "    steps = [('scale',MinMaxScaler()),('powert',PowerTransformer()),('model',models[i])]\n",
        "    pipeline = Pipeline(steps=steps)\n",
        "    scores = evaluate_model(X, y, pipeline)\n",
        "    results.append(scores)\n",
        "\n",
        "    print('Model : %s, Mean : %.3f, STD : %.3f' % (names[i], np.mean(scores), np.std(scores)))\n"
      ],
      "execution_count": 49,
      "outputs": [
        {
          "output_type": "stream",
          "text": [
            "Model : LR, Mean : 0.110, STD : 0.142\n",
            "Model : GNB, Mean : 0.097, STD : 0.172\n",
            "Model : MNB, Mean : nan, STD : nan\n"
          ],
          "name": "stdout"
        }
      ]
    },
    {
      "cell_type": "markdown",
      "metadata": {
        "id": "s5UfZEHXKuz_"
      },
      "source": [
        "<h3><center>5. Selecting Logistic regression & Fitting</center></h3>"
      ]
    },
    {
      "cell_type": "code",
      "metadata": {
        "trusted": true,
        "id": "AOXZ-uR9Ku0A"
      },
      "source": [
        "X_train, X_test, y_train, y_test = train_test_split(X, y, test_size=0.1, stratify=y, random_state=1)\n",
        "\n",
        "model = LogisticRegression(solver='lbfgs')\n",
        "\n",
        "steps = [('scaler',MinMaxScaler()), ('powert',PowerTransformer()), ('model',model)]\n",
        "pipeline = Pipeline(steps=steps)\n",
        "\n",
        "c_values = [100, 10, 1.0, 0.1, 0.01]\n",
        "grid = dict(model__C=c_values)\n",
        "\n",
        "cv = RepeatedStratifiedKFold(n_splits=10, n_repeats=3, random_state=1)\n",
        "\n",
        "\n",
        "grid_search = GridSearchCV(estimator=pipeline, param_grid=grid, n_jobs=-1, cv=cv, scoring='accuracy',error_score=0)\n",
        "grid_result = grid_search.fit(X_train, y_train)"
      ],
      "execution_count": 50,
      "outputs": []
    },
    {
      "cell_type": "code",
      "metadata": {
        "trusted": true,
        "colab": {
          "base_uri": "https://localhost:8080/"
        },
        "id": "m5PswMMJKu0B",
        "outputId": "e9bec0f3-6b9a-4cd8-e13d-00beb38c9b8b"
      },
      "source": [
        "print(\"Best: %f using %s\" % (grid_result.best_score_, grid_result.best_params_))\n",
        "means = grid_result.cv_results_['mean_test_score']\n",
        "stds = grid_result.cv_results_['std_test_score']\n",
        "params = grid_result.cv_results_['params']"
      ],
      "execution_count": 51,
      "outputs": [
        {
          "output_type": "stream",
          "text": [
            "Best: 0.768430 using {'model__C': 1.0}\n"
          ],
          "name": "stdout"
        }
      ]
    },
    {
      "cell_type": "markdown",
      "metadata": {
        "id": "prThEzlzKu0D"
      },
      "source": [
        "<h3>Prediction</h3>"
      ]
    },
    {
      "cell_type": "code",
      "metadata": {
        "trusted": true,
        "colab": {
          "base_uri": "https://localhost:8080/"
        },
        "id": "092ESyDEKu0D",
        "outputId": "1d4bba37-5b82-4ec9-dbeb-dcf5d1cb1177"
      },
      "source": [
        "best_model = grid_result.best_estimator_\n",
        "\n",
        "y_pred = best_model.predict(X_test)\n",
        "\n",
        "print(confusion_matrix(y_test, y_pred))\n",
        "\n",
        "print(classification_report(y_test, y_pred))"
      ],
      "execution_count": 52,
      "outputs": [
        {
          "output_type": "stream",
          "text": [
            "[[19  4]\n",
            " [ 8  0]]\n",
            "              precision    recall  f1-score   support\n",
            "\n",
            "           0       0.70      0.83      0.76        23\n",
            "           1       0.00      0.00      0.00         8\n",
            "\n",
            "    accuracy                           0.61        31\n",
            "   macro avg       0.35      0.41      0.38        31\n",
            "weighted avg       0.52      0.61      0.56        31\n",
            "\n"
          ],
          "name": "stdout"
        }
      ]
    },
    {
      "cell_type": "markdown",
      "metadata": {
        "id": "ffqmQN4FKu0E"
      },
      "source": [
        "<blockquote> Predictions are very poor especially for the positive class making all the predictions wrong</blockquote>"
      ]
    },
    {
      "cell_type": "markdown",
      "metadata": {
        "id": "AImzdoyMKu0F"
      },
      "source": [
        "<h3>Using Heuristic(balanced) classw weights in Logistic regression</h3>"
      ]
    },
    {
      "cell_type": "code",
      "metadata": {
        "trusted": true,
        "colab": {
          "base_uri": "https://localhost:8080/"
        },
        "id": "vnavf6z3Ku0F",
        "outputId": "f0ce7a3f-cf6c-4252-a43e-9290dbe2ffb3"
      },
      "source": [
        "X_train, X_test, y_train, y_test = train_test_split(X, y, test_size=0.1, stratify=y, random_state=1)\n",
        "\n",
        "model = LogisticRegression(solver='lbfgs', class_weight='balanced')\n",
        "\n",
        "steps = [('scaler',MinMaxScaler()), ('powert',PowerTransformer()), ('model',model)]\n",
        "pipeline = Pipeline(steps=steps)\n",
        "\n",
        "c_values = [100, 10, 1.0, 0.1, 0.01]\n",
        "grid = dict(model__C=c_values)\n",
        "\n",
        "cv = RepeatedStratifiedKFold(n_splits=10, n_repeats=3, random_state=1)\n",
        "\n",
        "\n",
        "grid_search = GridSearchCV(estimator=pipeline, param_grid=grid, n_jobs=-1, cv=cv, scoring='accuracy',error_score=0)\n",
        "grid_result = grid_search.fit(X_train, y_train)\n",
        "\n",
        "print(\"Best: %f using %s\" % (grid_result.best_score_, grid_result.best_params_))\n",
        "means = grid_result.cv_results_['mean_test_score']\n",
        "stds = grid_result.cv_results_['std_test_score']\n",
        "params = grid_result.cv_results_['params']"
      ],
      "execution_count": 42,
      "outputs": [
        {
          "output_type": "stream",
          "text": [
            "Best: 0.719797 using {'model__C': 1.0}\n"
          ],
          "name": "stdout"
        }
      ]
    },
    {
      "cell_type": "code",
      "metadata": {
        "trusted": true,
        "colab": {
          "base_uri": "https://localhost:8080/"
        },
        "id": "cpKhorKOKu0G",
        "outputId": "b302071e-679a-493c-af75-251cc44ed5b5"
      },
      "source": [
        "best_model = grid_result.best_estimator_\n",
        "\n",
        "y_pred = best_model.predict(X_test)\n",
        "\n",
        "print(confusion_matrix(y_test, y_pred))\n",
        "\n",
        "print(classification_report(y_test, y_pred))"
      ],
      "execution_count": 43,
      "outputs": [
        {
          "output_type": "stream",
          "text": [
            "[[14  9]\n",
            " [ 4  4]]\n",
            "              precision    recall  f1-score   support\n",
            "\n",
            "           0       0.78      0.61      0.68        23\n",
            "           1       0.31      0.50      0.38         8\n",
            "\n",
            "    accuracy                           0.58        31\n",
            "   macro avg       0.54      0.55      0.53        31\n",
            "weighted avg       0.66      0.58      0.60        31\n",
            "\n"
          ],
          "name": "stdout"
        }
      ]
    },
    {
      "cell_type": "markdown",
      "metadata": {
        "id": "y1uzptmCKu0I"
      },
      "source": [
        "<h3>Predicting Probablities</h3>"
      ]
    },
    {
      "cell_type": "code",
      "metadata": {
        "trusted": true,
        "colab": {
          "base_uri": "https://localhost:8080/"
        },
        "id": "eJKe40jJKu0J",
        "outputId": "c140a8c2-eaff-42f4-abe3-70b9eac85d89"
      },
      "source": [
        "#Survival Cases\n",
        "print('Survival Cases:')\n",
        "data = [[31,59,2], [31,65,4], [34,60,1]]\n",
        "for row in data:\n",
        "    yhat = best_model.predict_proba([row])\n",
        "    p_survive = yhat[0, 0] * 100\n",
        "    print('>data=%s, Survival=%.3f%%' % (row, p_survive)) \n",
        "\n",
        "\n",
        "# some non-survival cases\n",
        "print('Non-Survival Cases:')\n",
        "data = [[44,64,6], [34,66,9], [38,69,21]]\n",
        "\n",
        "for row in data:\n",
        "    yhat = best_model.predict_proba([row])\n",
        "    p_survive = yhat[0, 0] * 100\n",
        "    print('>data=%s, Survival=%.3f%%' % (row, p_survive))"
      ],
      "execution_count": 44,
      "outputs": [
        {
          "output_type": "stream",
          "text": [
            "Survival Cases:\n",
            ">data=[31, 59, 2], Survival=67.315%\n",
            ">data=[31, 65, 4], Survival=54.731%\n",
            ">data=[34, 60, 1], Survival=72.910%\n",
            "Non-Survival Cases:\n",
            ">data=[44, 64, 6], Survival=36.671%\n",
            ">data=[34, 66, 9], Survival=36.238%\n",
            ">data=[38, 69, 21], Survival=25.745%\n"
          ],
          "name": "stdout"
        }
      ]
    }
  ]
}